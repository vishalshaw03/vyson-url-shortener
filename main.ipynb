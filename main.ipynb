{
 "cells": [
  {
   "cell_type": "code",
   "execution_count": 36,
   "id": "c92ce69d",
   "metadata": {},
   "outputs": [
    {
     "name": "stderr",
     "output_type": "stream",
     "text": [
      "\n",
      "[notice] A new release of pip is available: 23.2.1 -> 25.1.1\n",
      "[notice] To update, run: python.exe -m pip install --upgrade pip\n"
     ]
    }
   ],
   "source": [
    "! pip install requests tqdm --quiet"
   ]
  },
  {
   "cell_type": "code",
   "execution_count": 26,
   "id": "9a56f556",
   "metadata": {},
   "outputs": [],
   "source": [
    "import requests\n",
    "from tqdm import tqdm\n",
    "from time import sleep"
   ]
  },
  {
   "cell_type": "code",
   "execution_count": 27,
   "id": "0ce792ac",
   "metadata": {},
   "outputs": [],
   "source": [
    "BASE_URL = \"http://localhost:5000\"  # App base URLs"
   ]
  },
  {
   "cell_type": "code",
   "execution_count": 28,
   "id": "d8209809",
   "metadata": {},
   "outputs": [],
   "source": [
    "success = 0\n",
    "failed = 0\n",
    "responses = []"
   ]
  },
  {
   "cell_type": "markdown",
   "id": "4292bac0",
   "metadata": {},
   "source": [
    "#### Number of URLs to shorten"
   ]
  },
  {
   "cell_type": "code",
   "execution_count": 29,
   "id": "dcfa00be",
   "metadata": {},
   "outputs": [],
   "source": [
    "COUNT = 1000"
   ]
  },
  {
   "cell_type": "code",
   "execution_count": null,
   "id": "8e893729",
   "metadata": {},
   "outputs": [],
   "source": [
    "# COUNT = 10_000"
   ]
  },
  {
   "cell_type": "markdown",
   "id": "549651c4",
   "metadata": {},
   "source": [
    "#### Insertion"
   ]
  },
  {
   "cell_type": "code",
   "execution_count": 30,
   "id": "6b3d7928",
   "metadata": {},
   "outputs": [
    {
     "name": "stderr",
     "output_type": "stream",
     "text": [
      "Creating URLs: 100%|██████████| 1000/1000 [00:08<00:00, 115.08it/s]\n"
     ]
    }
   ],
   "source": [
    "url = f\"{BASE_URL}/shorten\"\n",
    "\n",
    "for i in tqdm(range(COUNT), desc=\"Creating URLs\"):\n",
    "    long_url = f\"https://example.com/resource/{i}\"\n",
    "    payload = {\n",
    "        \"url\": long_url\n",
    "    }\n",
    "\n",
    "    if i % 1000 == 0 and i > 0:\n",
    "        sleep(1)\n",
    "    try:\n",
    "        res = requests.post(url, json=payload)\n",
    "        if res.status_code == 200:\n",
    "            data = res.json()\n",
    "            responses.append(data['short_url'])\n",
    "            success += 1\n",
    "        else:\n",
    "            print(f\"❌ Failed ({res.status_code}) for {long_url}\")\n",
    "            failed += 1\n",
    "    except Exception as e:\n",
    "        print(f\"❌ Exception for {long_url}: {e}\")\n",
    "        failed += 1"
   ]
  },
  {
   "cell_type": "code",
   "execution_count": 31,
   "id": "46f390a0",
   "metadata": {},
   "outputs": [
    {
     "name": "stdout",
     "output_type": "stream",
     "text": [
      "\n",
      "✅ Success: 1000 | ❌ Failed: 0\n",
      "\n",
      "Sample Short URLs:\n",
      "['http://localhost:5000/d/f6019d', 'http://localhost:5000/d/a80e97', 'http://localhost:5000/d/f33c3f', 'http://localhost:5000/d/9d2bba', 'http://localhost:5000/d/643d24']\n"
     ]
    }
   ],
   "source": [
    "print(f\"\\n✅ Success: {success} | ❌ Failed: {failed}\")\n",
    "print(\"\\nSample Short URLs:\")\n",
    "print(responses[:5])"
   ]
  },
  {
   "cell_type": "markdown",
   "id": "16215052",
   "metadata": {},
   "source": [
    "#### Get Long URL"
   ]
  },
  {
   "cell_type": "code",
   "execution_count": 33,
   "id": "bd8dfbee",
   "metadata": {},
   "outputs": [
    {
     "name": "stdout",
     "output_type": "stream",
     "text": [
      "\n",
      "Long URL for http://localhost:5000/d/f6019d: https://example.com/resource/999\n"
     ]
    }
   ],
   "source": [
    "url = f\"{BASE_URL}/u/{responses[-1].split('/')[-1]}\"\n",
    "\n",
    "res = requests.get(url)\n",
    "if res.status_code == 200:\n",
    "    print(f\"\\nLong URL for {responses[0]}: {res.json()['url']}\")\n",
    "else:\n",
    "    print(f\"❌ Failed to fetch long URL: {res.status_code}\")"
   ]
  },
  {
   "cell_type": "markdown",
   "id": "8ad005f8",
   "metadata": {},
   "source": [
    "#### DB INFO"
   ]
  },
  {
   "cell_type": "code",
   "execution_count": 34,
   "id": "db325dbb",
   "metadata": {},
   "outputs": [
    {
     "name": "stdout",
     "output_type": "stream",
     "text": [
      "\n",
      "Database Info:\n",
      "{'size': '229.38 kB', 'row_count': 1002}\n"
     ]
    }
   ],
   "source": [
    "url = f\"{BASE_URL}/disk-usage\"\n",
    "\n",
    "res = requests.get(url)\n",
    "if res.status_code == 200:\n",
    "    print(\"\\nDatabase Info:\")\n",
    "    print(res.json())\n",
    "else:\n",
    "    print(f\"❌ Failed to fetch DB info: {res.status_code}\")"
   ]
  }
 ],
 "metadata": {
  "kernelspec": {
   "display_name": "Python 3",
   "language": "python",
   "name": "python3"
  },
  "language_info": {
   "codemirror_mode": {
    "name": "ipython",
    "version": 3
   },
   "file_extension": ".py",
   "mimetype": "text/x-python",
   "name": "python",
   "nbconvert_exporter": "python",
   "pygments_lexer": "ipython3",
   "version": "3.10.8"
  }
 },
 "nbformat": 4,
 "nbformat_minor": 5
}

{
 "cells": [
  {
   "cell_type": "code",
   "execution_count": null,
   "id": "c92ce69d",
   "metadata": {},
   "outputs": [],
   "source": [
    "! pip install requests tqdm --quiet"
   ]
  },
  {
   "cell_type": "code",
   "execution_count": null,
   "id": "9a56f556",
   "metadata": {},
   "outputs": [],
   "source": [
    "import requests\n",
    "from tqdm import tqdm\n",
    "from time import sleep, time"
   ]
  },
  {
   "cell_type": "code",
   "execution_count": null,
   "id": "0ce792ac",
   "metadata": {},
   "outputs": [],
   "source": [
    "BASE_URL = \"http://localhost:5000\"  # App base URLs"
   ]
  },
  {
   "cell_type": "code",
   "execution_count": null,
   "id": "d8209809",
   "metadata": {},
   "outputs": [],
   "source": [
    "success = 0\n",
    "failed = 0\n",
    "responses = []"
   ]
  },
  {
   "cell_type": "markdown",
   "id": "4292bac0",
   "metadata": {},
   "source": [
    "#### Number of URLs to shorten"
   ]
  },
  {
   "cell_type": "code",
   "execution_count": null,
   "id": "dcfa00be",
   "metadata": {},
   "outputs": [],
   "source": [
    "# COUNT = 1000"
   ]
  },
  {
   "cell_type": "code",
   "execution_count": null,
   "id": "8e893729",
   "metadata": {},
   "outputs": [],
   "source": [
    "COUNT = 1_00_00_00 # 1 million"
   ]
  },
  {
   "cell_type": "markdown",
   "id": "549651c4",
   "metadata": {},
   "source": [
    "#### Insertion"
   ]
  },
  {
   "cell_type": "code",
   "execution_count": null,
   "id": "6b3d7928",
   "metadata": {},
   "outputs": [],
   "source": [
    "url = f\"{BASE_URL}/shorten\"\n",
    "\n",
    "start_time = time()\n",
    "\n",
    "for i in tqdm(range(COUNT), desc=\"Inserting URLs...\"):\n",
    "    long_url = f\"https://example.com/resource/{i}\"\n",
    "    payload = {\n",
    "        \"url\": long_url\n",
    "    }\n",
    "\n",
    "    try:\n",
    "        res = requests.post(url, json=payload)\n",
    "        if res.status_code == 200:\n",
    "            data = res.json()\n",
    "            responses.append(data['short_url'])\n",
    "            success += 1\n",
    "        else:\n",
    "            print(f\"❌ Failed ({res.status_code}) for {long_url}\")\n",
    "            failed += 1\n",
    "    except Exception as e:\n",
    "        print(f\"❌ Exception for {long_url}: {e}\")\n",
    "        failed += 1\n",
    "\n",
    "end_time = time()\n",
    "elapsed = end_time - start_time\n",
    "\n",
    "print(f\"\\n✅ Time taken {elapsed:.2f} seconds\")"
   ]
  },
  {
   "cell_type": "code",
   "execution_count": null,
   "id": "46f390a0",
   "metadata": {},
   "outputs": [],
   "source": [
    "print(f\"\\n✅ Success: {success} | ❌ Failed: {failed}\")\n",
    "print(\"\\nSample Short URLs:\")\n",
    "print(responses[:5])"
   ]
  },
  {
   "cell_type": "markdown",
   "id": "16215052",
   "metadata": {},
   "source": [
    "#### Get Long URL"
   ]
  },
  {
   "cell_type": "code",
   "execution_count": null,
   "id": "da5358d3",
   "metadata": {},
   "outputs": [],
   "source": [
    "import random\n",
    "\n",
    "# Pick 5 random responses\n",
    "sampled = random.sample(responses, 5)\n",
    "sampled"
   ]
  },
  {
   "cell_type": "code",
   "execution_count": null,
   "id": "bd8dfbee",
   "metadata": {},
   "outputs": [],
   "source": [
    "def get_long_url(short_url):\n",
    "    url = f\"{BASE_URL}/u/{short_url.split('/')[-1]}\"\n",
    "    res = requests.get(url)\n",
    "    return res"
   ]
  },
  {
   "cell_type": "code",
   "execution_count": null,
   "id": "44beb9f7",
   "metadata": {},
   "outputs": [],
   "source": [
    "for item in sampled:\n",
    "    res = get_long_url(item)\n",
    "    if res.status_code == 200:\n",
    "        print(f\"\\nLong URL for {item}: {res.json()['url']}\")\n",
    "    else:\n",
    "        print(f\"❌ Failed to fetch long URL: {res.status_code}\")"
   ]
  },
  {
   "cell_type": "code",
   "execution_count": null,
   "id": "6e0db086",
   "metadata": {},
   "outputs": [],
   "source": [
    "# count = 1_00_00_00\n",
    "count = 1_000\n",
    "\n",
    "start_time = time()\n",
    "for i in tqdm(range(count)):\n",
    "    get_long_url(responses[i])\n",
    "\n",
    "end_time = time()\n",
    "elapsed = end_time - start_time\n",
    "\n",
    "print(f\"\\n✅ Time taken {elapsed:.2f} seconds\")"
   ]
  },
  {
   "cell_type": "markdown",
   "id": "8ad005f8",
   "metadata": {},
   "source": [
    "#### DB INFO"
   ]
  },
  {
   "cell_type": "code",
   "execution_count": null,
   "id": "db325dbb",
   "metadata": {},
   "outputs": [],
   "source": [
    "url = f\"{BASE_URL}/disk-usage\"\n",
    "\n",
    "res = requests.get(url)\n",
    "if res.status_code == 200:\n",
    "    print(\"\\nDatabase Info:\")\n",
    "    print(res.json())\n",
    "else:\n",
    "    print(f\"❌ Failed to fetch DB info: {res.status_code}\")"
   ]
  }
 ],
 "metadata": {
  "kernelspec": {
   "display_name": "Python 3",
   "language": "python",
   "name": "python3"
  },
  "language_info": {
   "codemirror_mode": {
    "name": "ipython",
    "version": 3
   },
   "file_extension": ".py",
   "mimetype": "text/x-python",
   "name": "python",
   "nbconvert_exporter": "python",
   "pygments_lexer": "ipython3",
   "version": "3.10.8"
  }
 },
 "nbformat": 4,
 "nbformat_minor": 5
}
